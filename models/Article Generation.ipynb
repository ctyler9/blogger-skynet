{
 "cells": [
  {
   "cell_type": "markdown",
   "id": "b3f1f95e-81d9-4d14-8e63-12e8da855798",
   "metadata": {},
   "source": [
    "## Open AI Implementation"
   ]
  },
  {
   "cell_type": "code",
   "execution_count": 1,
   "id": "57cb0a28-6fb9-4b2e-8c47-b47e5ad74032",
   "metadata": {},
   "outputs": [],
   "source": [
    "import json\n",
    "\n",
    "key_dir = \"../config/openai.json\"\n",
    "\n",
    "with open(key_dir) as fp:\n",
    "    data = json.load(fp)"
   ]
  },
  {
   "cell_type": "code",
   "execution_count": 11,
   "id": "96097982-088d-457e-b435-98c811fcc5ee",
   "metadata": {},
   "outputs": [],
   "source": [
    "import openai\n",
    "openai.api_key = data[\"key\"]\n",
    "\n",
    "# list engines\n",
    "engines = openai.Engine.list()\n",
    "\n",
    "# print the first engine's id\n",
    "print(engines.data[0].id)\n",
    "\n",
    "# create a completiaon\n",
    "completion = openai.Completion.create(engine=\"ada\", prompt=\"Hello world\")\n",
    "\n",
    "# print the completion\n",
    "print(completion.choices[0].text)"
   ]
  },
  {
   "cell_type": "markdown",
   "id": "fc5a41e2-7276-4cae-b4d4-a52068572082",
   "metadata": {},
   "source": [
    "## GPT-NEO"
   ]
  },
  {
   "cell_type": "code",
   "execution_count": 1,
   "id": "d7313074-d613-4c1b-9a3b-5ed06945dcfd",
   "metadata": {},
   "outputs": [],
   "source": [
    "from transformers import pipeline"
   ]
  },
  {
   "cell_type": "code",
   "execution_count": 3,
   "id": "fb9428a4-14aa-476d-82a9-2f8628b6a010",
   "metadata": {},
   "outputs": [
    {
     "name": "stderr",
     "output_type": "stream",
     "text": [
      "Setting `pad_token_id` to `eos_token_id`:50256 for open-end generation.\n"
     ]
    },
    {
     "data": {
      "text/plain": [
       "[{'generated_text': 'EleutherAI has introduced a new update, version 1.19.0, to the Euroware™ game client that is distributed with the Euroware™ 1.14.1 and higher versions.\\n\\nThis is an incremental update and not a'}]"
      ]
     },
     "execution_count": 3,
     "metadata": {},
     "output_type": "execute_result"
    }
   ],
   "source": [
    "generator = pipeline('text-generation', model='EleutherAI/gpt-neo-1.3B')\n",
    "generator(\"EleutherAI has\", do_sample=True, max_new_tokens=50)"
   ]
  },
  {
   "cell_type": "code",
   "execution_count": 4,
   "id": "e112e448-fb8f-4d0c-a846-0732ee8b1b9d",
   "metadata": {},
   "outputs": [
    {
     "name": "stderr",
     "output_type": "stream",
     "text": [
      "Setting `pad_token_id` to `eos_token_id`:50256 for open-end generation.\n"
     ]
    },
    {
     "data": {
      "text/plain": [
       "[{'generated_text': 'Write 5 article headlines about aaron rodgers standing up to the woke mob, and then we’ll start working on your article writing.\\n\\nI have never met anyone for whom I felt like I had everything all figured out. There were'}]"
      ]
     },
     "execution_count": 4,
     "metadata": {},
     "output_type": "execute_result"
    }
   ],
   "source": [
    "generator(\"Write 5 article headlines about aaron rodgers standing up to the woke mob\", do_sample=True)"
   ]
  },
  {
   "cell_type": "code",
   "execution_count": null,
   "id": "42842c60-f0b1-4328-8c62-2500e3f6e3c0",
   "metadata": {},
   "outputs": [],
   "source": []
  }
 ],
 "metadata": {
  "kernelspec": {
   "display_name": "blogger-skynet",
   "language": "python",
   "name": "blogger-skynet"
  },
  "language_info": {
   "codemirror_mode": {
    "name": "ipython",
    "version": 3
   },
   "file_extension": ".py",
   "mimetype": "text/x-python",
   "name": "python",
   "nbconvert_exporter": "python",
   "pygments_lexer": "ipython3",
   "version": "3.10.7"
  }
 },
 "nbformat": 4,
 "nbformat_minor": 5
}
